{
 "cells": [
  {
   "cell_type": "code",
   "execution_count": 14,
   "metadata": {},
   "outputs": [
    {
     "name": "stdout",
     "output_type": "stream",
     "text": [
      "Enter word: web\n",
      "The silken structure a spider builds using silk secreted from the spinnerets at the caudal tip of its abdomen.\n"
     ]
    }
   ],
   "source": [
    "#1.import json library which It is derived from a version of the externally maintained simplejson library.\n",
    "import json\n",
    "from difflib import get_close_matches\n",
    "#open json file\n",
    "data = json.load(open(\"data.json\"))    \n",
    "\n",
    "def translate(w):\n",
    "  \n",
    "    if w in data:\n",
    "        return data[w]\n",
    "    elif len(get_close_matches(w,data.keys()))>0:\n",
    "        yn = input(\"Did you mean {} instead Enter Y if yes,or N if no : \".format (get_close_matches(w,data.keys())[0]))\n",
    "\n",
    "        if yn ==\"Y\" or yn == \"Y\".lower():\n",
    "            return data[get_close_matches(w,data.keys())[0]]\n",
    "        elif yn == \"N\" or yn == \"N\".lower():\n",
    "            return \"Word doesn't exist.Confirm it again\"\n",
    "        else:\n",
    "            return \"We did not understand you\"\n",
    "        \n",
    "    else:\n",
    "        return \"The word does not exist\"\n",
    "\n",
    "word = input(\"Enter word: \")\n",
    "\n",
    "output = translate(word)\n",
    "\n",
    "if type(output)== list:\n",
    "    for item in output:\n",
    "        print(item)\n",
    "else:\n",
    "    print(output)"
   ]
  },
  {
   "cell_type": "code",
   "execution_count": null,
   "metadata": {},
   "outputs": [],
   "source": []
  },
  {
   "cell_type": "code",
   "execution_count": null,
   "metadata": {},
   "outputs": [],
   "source": []
  }
 ],
 "metadata": {
  "kernelspec": {
   "display_name": "Python 3",
   "language": "python",
   "name": "python3"
  },
  "language_info": {
   "codemirror_mode": {
    "name": "ipython",
    "version": 3
   },
   "file_extension": ".py",
   "mimetype": "text/x-python",
   "name": "python",
   "nbconvert_exporter": "python",
   "pygments_lexer": "ipython3",
   "version": "3.8.2"
  }
 },
 "nbformat": 4,
 "nbformat_minor": 4
}
